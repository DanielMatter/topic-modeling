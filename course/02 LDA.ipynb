{
 "cells": [
  {
   "attachments": {},
   "cell_type": "markdown",
   "metadata": {},
   "source": [
    "# LDA"
   ]
  },
  {
   "attachments": {},
   "cell_type": "markdown",
   "metadata": {},
   "source": [
    "LDA (Latent Dirichlet Allocation) is a generative probabilistic model for collections of discrete dataset such as text corpora. It is also a topic model that is used for discovering abstract topics from a collection of documents. LDA is a three-level hierarchical Bayesian model, in which each item of a collection is modeled as a finite mixture over an underlying set of topics. Each topic is, in turn, modeled as an infinite mixture over an underlying set of topic probabilities. In the context of text modeling, the topic probabilities provide an explicit representation of a document. In other words, LDA is a probabilistic model that assumes documents are a mixture of topics and that each word in the document is attributable to the document's topics."
   ]
  },
  {
   "attachments": {},
   "cell_type": "markdown",
   "metadata": {},
   "source": [
    "## Theoretical Overview\n",
    "\n",
    "LDA assumes the following generative process for each document $w$ in a corpus $D$:\n"
   ]
  },
  {
   "cell_type": "code",
   "execution_count": 2,
   "metadata": {},
   "outputs": [],
   "source": [
    "%load_ext itikz"
   ]
  },
  {
   "cell_type": "code",
   "execution_count": 6,
   "metadata": {
    "vscode": {
     "languageId": "latex"
    }
   },
   "outputs": [
    {
     "data": {
      "image/svg+xml": [
       "<svg xmlns=\"http://www.w3.org/2000/svg\" xmlns:xlink=\"http://www.w3.org/1999/xlink\" width=\"141.931pt\" height=\"141.931pt\" viewBox=\"0 0 141.931 141.931\" version=\"1.1\">\n",
       "<defs>\n",
       "<clipPath id=\"clip1\">\n",
       "  <path d=\"M 0 0 L 141.929688 0 L 141.929688 141.929688 L 0 141.929688 Z M 0 0 \"/>\n",
       "</clipPath>\n",
       "</defs>\n",
       "<g id=\"surface1\">\n",
       "<g clip-path=\"url(#clip1)\" clip-rule=\"nonzero\">\n",
       "<path style=\"fill:none;stroke-width:0.19925;stroke-linecap:butt;stroke-linejoin:miter;stroke:rgb(50%,50%,50%);stroke-opacity:1;stroke-miterlimit:10;\" d=\"M 0.0015625 -0.00103125 L 141.735938 -0.00103125 M 0.0015625 28.346625 L 141.735938 28.346625 M 0.0015625 56.694281 L 141.735938 56.694281 M 0.0015625 85.041938 L 141.735938 85.041938 M 0.0015625 113.385688 L 141.735938 113.385688 M 0.0015625 141.725531 L 141.735938 141.725531 M 0.0015625 -0.00103125 L 0.0015625 141.733344 M 28.345312 -0.00103125 L 28.345312 141.733344 M 56.692969 -0.00103125 L 56.692969 141.733344 M 85.040625 -0.00103125 L 85.040625 141.733344 M 113.388281 -0.00103125 L 113.388281 141.733344 M 141.724219 -0.00103125 L 141.724219 141.733344 \" transform=\"matrix(1,0,0,-1,0.1,141.831)\"/>\n",
       "</g>\n",
       "<path style=\"fill-rule:nonzero;fill:rgb(99.253845%,90.000916%,95.489502%);fill-opacity:1;stroke-width:0.3985;stroke-linecap:butt;stroke-linejoin:miter;stroke:rgb(0%,0%,0%);stroke-opacity:1;stroke-miterlimit:10;\" d=\"M 28.345312 28.346625 L 28.345312 56.694281 L 56.692969 56.694281 L 56.692969 28.346625 Z M 28.345312 28.346625 \" transform=\"matrix(1,0,0,-1,0.1,141.831)\"/>\n",
       "<path style=\"fill-rule:nonzero;fill:rgb(99.253845%,90.000916%,95.489502%);fill-opacity:1;stroke-width:0.3985;stroke-linecap:butt;stroke-linejoin:miter;stroke:rgb(0%,0%,0%);stroke-opacity:1;stroke-miterlimit:10;\" d=\"M 56.692969 28.346625 L 56.692969 56.694281 L 85.040625 56.694281 L 85.040625 28.346625 Z M 56.692969 28.346625 \" transform=\"matrix(1,0,0,-1,0.1,141.831)\"/>\n",
       "<path style=\"fill-rule:nonzero;fill:rgb(99.253845%,90.000916%,95.489502%);fill-opacity:1;stroke-width:0.3985;stroke-linecap:butt;stroke-linejoin:miter;stroke:rgb(0%,0%,0%);stroke-opacity:1;stroke-miterlimit:10;\" d=\"M 85.040625 28.346625 L 85.040625 56.694281 L 113.388281 56.694281 L 113.388281 28.346625 Z M 85.040625 28.346625 \" transform=\"matrix(1,0,0,-1,0.1,141.831)\"/>\n",
       "<path style=\"fill-rule:nonzero;fill:rgb(99.253845%,90.000916%,95.489502%);fill-opacity:1;stroke-width:0.3985;stroke-linecap:butt;stroke-linejoin:miter;stroke:rgb(0%,0%,0%);stroke-opacity:1;stroke-miterlimit:10;\" d=\"M 85.040625 56.694281 L 85.040625 85.041938 L 113.388281 85.041938 L 113.388281 56.694281 Z M 85.040625 56.694281 \" transform=\"matrix(1,0,0,-1,0.1,141.831)\"/>\n",
       "<path style=\"fill-rule:nonzero;fill:rgb(99.253845%,90.000916%,95.489502%);fill-opacity:1;stroke-width:0.3985;stroke-linecap:butt;stroke-linejoin:miter;stroke:rgb(0%,0%,0%);stroke-opacity:1;stroke-miterlimit:10;\" d=\"M 56.692969 85.041938 L 56.692969 113.385688 L 85.040625 113.385688 L 85.040625 85.041938 Z M 56.692969 85.041938 \" transform=\"matrix(1,0,0,-1,0.1,141.831)\"/>\n",
       "</g>\n",
       "</svg>"
      ],
      "text/plain": [
       "<IPython.core.display.SVG object>"
      ]
     },
     "execution_count": 6,
     "metadata": {},
     "output_type": "execute_result"
    }
   ],
   "source": [
    "%%itikz --file-prefix implicit-demo- --implicit-pic\n",
    "\\draw[help lines] grid (5, 5);\n",
    "\\draw[fill=magenta!10] (1, 1) rectangle (2, 2);\n",
    "\\draw[fill=magenta!10] (2, 1) rectangle (3, 2);\n",
    "\\draw[fill=magenta!10] (3, 1) rectangle (4, 2);\n",
    "\\draw[fill=magenta!10] (3, 2) rectangle (4, 3);\n",
    "\\draw[fill=magenta!10] (2, 3) rectangle (3, 4);"
   ]
  },
  {
   "cell_type": "code",
   "execution_count": null,
   "metadata": {},
   "outputs": [],
   "source": []
  }
 ],
 "metadata": {
  "kernelspec": {
   "display_name": "Python 3",
   "language": "python",
   "name": "python3"
  },
  "language_info": {
   "codemirror_mode": {
    "name": "ipython",
    "version": 3
   },
   "file_extension": ".py",
   "mimetype": "text/x-python",
   "name": "python",
   "nbconvert_exporter": "python",
   "pygments_lexer": "ipython3",
   "version": "3.9.7"
  },
  "orig_nbformat": 4
 },
 "nbformat": 4,
 "nbformat_minor": 2
}
