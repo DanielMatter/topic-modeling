{
 "cells": [
  {
   "attachments": {},
   "cell_type": "markdown",
   "metadata": {},
   "source": [
    "# What is Topic Modeling?\n",
    "\n",
    "Topic modeling is a method for unsupervised learning of the latent topics that occur in a collection of documents. It is a form of dimensionality reduction, in which the number of dimensions is reduced from the vocabulary of the documents to the number of topics. Topic modeling is a powerful tool for the discovery of hidden semantic structures in a text body. It is used for a variety of tasks, including document clustering, information retrieval, and recommender systems."
   ]
  },
  {
   "attachments": {},
   "cell_type": "markdown",
   "metadata": {},
   "source": []
  }
 ],
 "metadata": {
  "language_info": {
   "name": "python"
  },
  "orig_nbformat": 4
 },
 "nbformat": 4,
 "nbformat_minor": 2
}
