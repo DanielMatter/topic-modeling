{
 "cells": [
  {
   "attachments": {},
   "cell_type": "markdown",
   "metadata": {},
   "source": [
    "# Advanced Classical Methods"
   ]
  },
  {
   "cell_type": "code",
   "execution_count": 21,
   "metadata": {},
   "outputs": [],
   "source": [
    "import json\n",
    "from helper.ConfusionLoss import confusion_loss_from_labels\n",
    "import matplotlib.pyplot as plt\n",
    "\n",
    "with open(\"../data/articles/train.preprocessed.json\") as f:\n",
    "    data = json.load(f)\n",
    "    texts = [\" \".join(article) for article in data]\n",
    "\n",
    "with open(\"../data/articles/train.json\") as f:\n",
    "    data = json.load(f)\n",
    "    labels = [article[\"label\"] for article in data]\n"
   ]
  },
  {
   "attachments": {},
   "cell_type": "markdown",
   "metadata": {},
   "source": [
    "While LDA is probably the most popular topic modeling algorithm, there are other methods that are worth knowing about. In this notebook, we will cover two of them: Non-negative Matrix Factorization (NMF) and Latent Semantic Indexing (LSI), also known as Latent Semantic Analysis (LSA).\n",
    "\n",
    "Besides these two, you might also want to check out [Correlated Topic Models](https://proceedings.neurips.cc/paper_files/paper/2005/file/9e82757e9a1c12cb710ad680db11f6f1-Paper.pdf), which is very closely related to LDA, or [Structural Topic Model](https://www.structuraltopicmodel.com) for including meta-information.."
   ]
  },
  {
   "attachments": {},
   "cell_type": "markdown",
   "metadata": {},
   "source": [
    "## Non-negative Matrix Factorization"
   ]
  },
  {
   "attachments": {},
   "cell_type": "markdown",
   "metadata": {},
   "source": [
    "Non-negative Matrix Factorization (NMF) is a matrix factorization method that is often used for dimensionality reduction. It is similar to PCA, but it only works on non-negative matrices, which makes it suitable for sparse count data.\n",
    "\n",
    "Given a matrix $X$, NMF finds two matrices $W$ and $H$ such that $X \\approx WH$. $W$ and $H$ are constrained to be non-negative, and $H$ is also constrained to be sparse. The sparsity of $H$ makes NMF a good fit for topic modeling."
   ]
  },
  {
   "attachments": {},
   "cell_type": "markdown",
   "metadata": {},
   "source": [
    "![NMF](../assets/graphics/nmf.png)"
   ]
  },
  {
   "attachments": {},
   "cell_type": "markdown",
   "metadata": {},
   "source": [
    "If we imagine $X$ to be a document-term matrix, e.g. TF-IDF, then $W$ can be interpreted as a document-topic matrix, and $H$ as a topic-term matrix. This is exactly what we need for topic modeling!"
   ]
  },
  {
   "attachments": {},
   "cell_type": "markdown",
   "metadata": {},
   "source": [
    "NMF, in contrast to LDA, has no hyperparameters except the number of topics. This makes it very easy to use, but it also means that it is less flexible than LDA. For example, it is not possible to use priors to influence the topic distribution.\n",
    "\n",
    "NMF often produces more coherent topics than LDA, but it is also more prone to overfitting and hence more sensitive to the quality of the corpus and the preprocessing."
   ]
  },
  {
   "attachments": {},
   "cell_type": "markdown",
   "metadata": {},
   "source": [
    "### NMF with Sklearn"
   ]
  },
  {
   "attachments": {},
   "cell_type": "markdown",
   "metadata": {},
   "source": [
    "The following code-snippet shows how to perform NMF with sklearn. The code is similar to the LDA code from the previous notebook.\n",
    "\n",
    "Notice, how fast NMF is compared to LDA! We can perform NMF on the full dataset in less than 5 seconds, while LDA takes multiple minutes."
   ]
  },
  {
   "cell_type": "code",
   "execution_count": 22,
   "metadata": {},
   "outputs": [],
   "source": [
    "from sklearn.feature_extraction.text import TfidfVectorizer\n",
    "from sklearn.decomposition import NMF\n",
    "\n",
    "vectorizer = TfidfVectorizer(max_df=0.75, min_df=10)\n",
    "tfidf = vectorizer.fit_transform(texts)\n",
    "\n",
    "nmf = NMF(n_components=8, random_state=42)\n",
    "W = nmf.fit_transform(tfidf)\n",
    "H = nmf.components_\n"
   ]
  },
  {
   "cell_type": "code",
   "execution_count": 27,
   "metadata": {},
   "outputs": [
    {
     "name": "stdout",
     "output_type": "stream",
     "text": [
      "Coherence score: 0.43\n"
     ]
    },
    {
     "data": {
      "image/png": "[encoded data removed]",
      "text/plain": [
       "<Figure size 640x480 with 1 Axes>"
      ]
     },
     "metadata": {},
     "output_type": "display_data"
    }
   ],
   "source": [
    "predicted_topics = W.argmax(axis=1)\n",
    "score, confusion_matrix = confusion_loss_from_labels(labels, predicted_topics)\n",
    "\n",
    "plt.imshow(confusion_matrix)\n",
    "print(f\"Coherence score: {score:.2f}\")\n"
   ]
  },
  {
   "attachments": {},
   "cell_type": "markdown",
   "metadata": {},
   "source": [
    "The coherence-score of $0.43$ is not as good as LDA (or BERTopic, as we will see later), but still decent."
   ]
  },
  {
   "attachments": {},
   "cell_type": "markdown",
   "metadata": {},
   "source": [
    "## Latent Semantic Analysis\n",
    "\n",
    "Latent Semantic Analysis (LSA), also known as Latent Semantic Indexing (LSI), is a method that is very similar to PCA. It is often used for dimensionality reduction, but it can also be used for topic modeling."
   ]
  },
  {
   "attachments": {},
   "cell_type": "markdown",
   "metadata": {},
   "source": []
  }
 ],
 "metadata": {
  "kernelspec": {
   "display_name": "Python 3",
   "language": "python",
   "name": "python3"
  },
  "language_info": {
   "codemirror_mode": {
    "name": "ipython",
    "version": 3
   },
   "file_extension": ".py",
   "mimetype": "text/x-python",
   "name": "python",
   "nbconvert_exporter": "python",
   "pygments_lexer": "ipython3",
   "version": "3.9.7"
  },
  "orig_nbformat": 4
 },
 "nbformat": 4,
 "nbformat_minor": 2
}
