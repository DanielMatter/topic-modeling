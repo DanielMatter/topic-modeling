{
 "cells": [
  {
   "attachments": {},
   "cell_type": "markdown",
   "metadata": {},
   "source": [
    "# Data"
   ]
  },
  {
   "attachments": {},
   "cell_type": "markdown",
   "metadata": {},
   "source": [
    "You are welcome to bring your own data and use it with this repository.\n",
    "If you want to do so, you should ideally place it as a `json`-file in the `data` folder.\n",
    "The `json`-file should contain a list of dictionaries, where each dictionary represents a single data point.\n",
    "\n",
    "```json\n",
    "[\n",
    "    {\n",
    "        \"text\": \"This is the first text.\",\n",
    "        \"label\": 0\n",
    "    },\n",
    "    {\n",
    "        \"text\": \"This is the second text.\",\n",
    "        \"label\": 1\n",
    "    }\n",
    "]\n",
    "```\n",
    "\n",
    "If you don't have any labels for your data, just set the `label` to `-1`.\n",
    "\n",
    "If you don't want to or don't have any data to bring, you can just follow along with this notebook to download two sample datasets."
   ]
  },
  {
   "attachments": {},
   "cell_type": "markdown",
   "metadata": {},
   "source": [
    "## Sample Datasets"
   ]
  },
  {
   "attachments": {},
   "cell_type": "markdown",
   "metadata": {},
   "source": [
    "This notebook is meant to be run first and only once. It downloads the datasets used in this project and saves them in the `data` folder.\n",
    "Feel free to skip this notebook and download the datasets manually, or copy your own datasets to the `data` folder.\n",
    "\n",
    "The two datasets used in this course are open source and hosted by [huggingface](https://huggingface.co/datasets).\n",
    "We will refer to the first one as the `articles` dataset and the second one as the `headlines` dataset.\n",
    "The `articles` dataset contains $\\sim 3'500$ news articles from 8 different categories. The `headlines` dataset contains over $100'000$ headlines, divided into four categories. To make this second dataset more tractable, we will only use a random sample of $10'000$ headlines.\n",
    "\n",
    "By default, this notebook will operate on the `articles` dataset."
   ]
  },
  {
   "cell_type": "code",
   "execution_count": 3,
   "metadata": {},
   "outputs": [],
   "source": [
    "from datasets import load_dataset\n",
    "from os import makedirs\n",
    "from os.path import join\n",
    "import json\n",
    "import random\n",
    "\n",
    "makedirs('headlines', exist_ok=True)\n",
    "makedirs('articles', exist_ok=True)\n"
   ]
  },
  {
   "attachments": {},
   "cell_type": "markdown",
   "metadata": {},
   "source": [
    "### Download the News Headlines"
   ]
  },
  {
   "cell_type": "code",
   "execution_count": 6,
   "metadata": {},
   "outputs": [
    {
     "name": "stderr",
     "output_type": "stream",
     "text": [
      "Found cached dataset ag_news (/Users/danielmatter/.cache/huggingface/datasets/ag_news/default/0.0.0/bc2bcb40336ace1a0374767fc29bb0296cdaf8a6da7298436239c54d79180548)\n"
     ]
    },
    {
     "data": {
      "application/vnd.jupyter.widget-view+json": {
       "model_id": "b4d303957280463db8d38c6b6418c5bd",
       "version_major": 2,
       "version_minor": 0
      },
      "text/plain": [
       "  0%|          | 0/2 [00:00<?, ?it/s]"
      ]
     },
     "metadata": {},
     "output_type": "display_data"
    }
   ],
   "source": [
    "dataset = load_dataset(\"ag_news\")\n",
    "dataset = list(dataset['train'])\n",
    "\n",
    "random.seed(42)\n",
    "\n",
    "# We only want to use a random sample of 10'000 headlines\n",
    "# You can comment out this line if you want to use the full dataset\n",
    "dataset = random.sample(dataset, 10000)\n",
    "\n",
    "# Sample 80% of the dataset for training\n",
    "dataset_split = set(random.sample(\n",
    "    range(len(dataset)), int(0.8 * len(dataset))))\n",
    "dataset_train = [dataset[i] for i in dataset_split]\n",
    "dataset_test = [dataset[i]\n",
    "                for i in range(len(dataset)) if i not in dataset_split]\n",
    "\n",
    "with open(join('headlines', 'train.json'), 'w') as f:\n",
    "    json.dump(dataset_train, f, ensure_ascii=False, indent=4)\n",
    "\n",
    "with open(join('headlines', 'test.json'), 'w') as f:\n",
    "    json.dump(dataset_test, f, ensure_ascii=False, indent=4)\n"
   ]
  },
  {
   "attachments": {},
   "cell_type": "markdown",
   "metadata": {},
   "source": [
    "### Download the News Articles"
   ]
  },
  {
   "cell_type": "code",
   "execution_count": 6,
   "metadata": {},
   "outputs": [
    {
     "name": "stderr",
     "output_type": "stream",
     "text": [
      "Found cached dataset csv (/Users/danielmatter/.cache/huggingface/datasets/valurank___csv/valurank--News_Articles_Categorization-65a7be3608ffc54e/0.0.0/6954658bab30a358235fa864b05cf819af0e179325c740e4bc853bcc7ec513e1)\n"
     ]
    },
    {
     "data": {
      "application/vnd.jupyter.widget-view+json": {
       "model_id": "c0c87cf70f55449ab2a533ba3ea2cda6",
       "version_major": 2,
       "version_minor": 0
      },
      "text/plain": [
       "  0%|          | 0/1 [00:00<?, ?it/s]"
      ]
     },
     "metadata": {},
     "output_type": "display_data"
    }
   ],
   "source": [
    "dataset = load_dataset(\"valurank/News_Articles_Categorization\")\n",
    "dataset = [{'text': d['Text'], 'label': d['Category']}\n",
    "           for d in dataset['train']]\n",
    "\n",
    "# Sample 80% of the dataset for training\n",
    "random.seed(42)\n",
    "dataset_split = random.sample(range(len(dataset)), int(0.8 * len(dataset)))\n",
    "dataset_train = [dataset[i] for i in dataset_split]\n",
    "dataset_test = [dataset[i]\n",
    "                for i in range(len(dataset)) if i not in dataset_split]\n",
    "\n",
    "with open(join('articles', 'train.json'), 'w') as f:\n",
    "    json.dump(dataset_train, f, ensure_ascii=False, indent=4)\n",
    "\n",
    "with open(join('articles', 'test.json'), 'w') as f:\n",
    "    json.dump(dataset_test, f, ensure_ascii=False, indent=4)\n"
   ]
  },
  {
   "attachments": {},
   "cell_type": "markdown",
   "metadata": {},
   "source": [
    "## Exploring the Data"
   ]
  },
  {
   "attachments": {},
   "cell_type": "markdown",
   "metadata": {},
   "source": [
    "It is always worth having a glance at your data with your loading method before you start working with it.\n",
    "This allows you to ensure you have setup everything correctly, both in retrieving, as well as in loading the data.\n",
    "\n",
    "For this course, all datasets are downloaded into `.json` files, that contain an array of `text` and `label` keys."
   ]
  },
  {
   "cell_type": "code",
   "execution_count": 17,
   "metadata": {},
   "outputs": [],
   "source": [
    "with open(join('articles', 'test.json'), 'r') as f:\n",
    "    dataset = json.load(f)\n"
   ]
  },
  {
   "attachments": {},
   "cell_type": "markdown",
   "metadata": {},
   "source": [
    "Let's start by extracting all the labels from the `articles` dataset."
   ]
  },
  {
   "cell_type": "code",
   "execution_count": 18,
   "metadata": {},
   "outputs": [
    {
     "name": "stdout",
     "output_type": "stream",
     "text": [
      "{'Entertainment', 'Business', 'Sports', 'Politics', 'Tech', 'Health', 'World', 'science'}\n"
     ]
    }
   ],
   "source": [
    "labels = set([d['label'] for d in dataset])\n",
    "print(labels)\n"
   ]
  },
  {
   "attachments": {},
   "cell_type": "markdown",
   "metadata": {},
   "source": [
    "Let's also have a look at the beginning of the eight first articles."
   ]
  },
  {
   "cell_type": "code",
   "execution_count": 16,
   "metadata": {},
   "outputs": [
    {
     "name": "stdout",
     "output_type": "stream",
     "text": [
      "From Entertainment:\n",
      " Elon Musk, Amber Heard Something's Fishy On Wrapped-Up Sushi Last we heard, Elon Musk and Amber Hear...\n",
      "\n",
      "From Sports:\n",
      " Before Coming Out, a Hard Time Growing UpVideoMichael Sam, a defensive end at Missouri who will ente...\n",
      "\n",
      "From Tech:\n",
      " Fortnites parent company, Epic Games, had broken its contract with Apple, a federal judge found. The...\n",
      "\n",
      "From World:\n",
      " The InterpreterCredit...Jean-Paul Pelissier/ReutersMarch 6, 2017BERLIN An idea, once unthinkable, is...\n",
      "\n",
      "From Health:\n",
      " Credit...Craig Sherod/AcelRx Pharmaceuticals, via Associated PressNov. 2, 2018WASHINGTON The Food an...\n",
      "\n",
      "From science:\n",
      " While the unknowns about coronavirus abound, a new study finds we can handle the truth.Credit...Step...\n",
      "\n",
      "From Tech:\n",
      " The New New WorldThe Chinese telecom giant seeks acceptance in the West, but its structure and value...\n",
      "\n",
      "From Business:\n",
      " Special Report: Energy for TomorrowDec. 7, 2015PARIS The weeks leading up to the United Nations glob...\n",
      "\n"
     ]
    }
   ],
   "source": [
    "for d in dataset[:8]:\n",
    "    print(\"From {}:\".format(d['label']))\n",
    "    print(\" \" + d['text'][:100] + \"...\")\n",
    "    print()\n"
   ]
  },
  {
   "attachments": {},
   "cell_type": "markdown",
   "metadata": {},
   "source": [
    "Lastly, we are gonna load the first article and have a look at its content."
   ]
  },
  {
   "cell_type": "code",
   "execution_count": 31,
   "metadata": {},
   "outputs": [
    {
     "name": "stdout",
     "output_type": "stream",
     "text": [
      "The InterpreterCredit...Jean-Paul Pelissier/ReutersMarch 6, 2017BERLIN An idea, once unthinkable, is\n",
      "gaining attention in European policy circles: a European Union nuclear\n",
      "weapons program.Under such a plan, Frances arsenal would be repurposed\n",
      "to protect the rest of Europe and would be put\n",
      "under a common European command, funding plan, defense doctrine, or\n",
      "some combination of the three. It would be enacted only\n",
      "if the Continent could no longer count on American protection.Though\n",
      "no new countries would join the nuclear club under this\n",
      "scheme, it would amount to an unprecedented escalation in Europes\n",
      "collective military power and a drastic break with American leadership.Analysts\n",
      "say that the talk, even if it never translates into\n",
      "action, demonstrates the growing sense in Europe that drastic steps\n",
      "may be necessary to protect the postwar order in the\n",
      "era of a Trump presidency, a resurgent Russia and the\n",
      "possibility of an alignment between the two.Even proponents, who remain\n",
      "a minority, acknowledge enormous hurdles. But discussion of a so-called\n",
      "Eurodeterrent has entered the mainstream particularly in Germany, a country\n",
      "that would be central to any plan but where antinuclear\n",
      "sentiment is widespread.Jana Puglierin of the German Council on Foreign\n",
      "Relations said that a handful of senior European officials had\n",
      "for sure triggered a public debate about this, taking place\n",
      "in newspapers and journals, radio interviews and TV documentaries.She added:\n",
      "That in itself is remarkable. I am indeed very astonished\n",
      "that we discuss this at all.A Nuclear Plan BJaroslaw Kaczynski,\n",
      "Polands former prime minister and now the head of its\n",
      "ruling party, provided the highest-level call for a European Union\n",
      "nuclear program in a February interview with a German newspaper.But\n",
      "the most important support has come from Roderich Kiesewetter, a\n",
      "lawmaker and foreign policy spokesman with Germanys ruling party, who\n",
      "gave the nuclear option increased credibility by raising it shortly\n",
      "after President Trumps election.In an interview in the German Bundestag,\n",
      "Mr. Kiesewetter, a former colonel who served in Afghanistan, calibrated\n",
      "his language carefully, providing just enough detail to demonstrate the\n",
      "options seriousness without offering too much and risking an outcry\n",
      "from German voters or encouraging the American withdrawal he is\n",
      "hoping to avoid.My idea is to build on the existing\n",
      "weapons in Great Britain and France, he said, but acknowledged\n",
      "that Britains decision to leave the European Union could preclude\n",
      "its participation.The United States bases dozens of nuclear warheads in\n",
      "Germany, Italy, Belgium and the Netherlands as both a quick-reaction\n",
      "force and a symbol of its guarantee to protect the\n",
      "Continent. Mr. Kiesewetter said his plan would provide a replacement\n",
      "or parallel program.This would require, he said, four ingredients: a\n",
      "French pledge to commit its weapons to a common European\n",
      "defense, German financing to demonstrate the programs collective nature, a\n",
      "joint command and a plan to place French warheads in\n",
      "other European countries.The number of warheads in Europe would not\n",
      "increase under this plan, and could even decrease if the\n",
      "United States withdraws.Its not a question of numbers, Mr. Kiesewetter\n",
      "said. The reassurance and deterrence comes from the existence of\n",
      "the weapons and their deployability.He envisioned a program designed to\n",
      "deter nuclear as well as conventional threats a clear nod\n",
      "to Russias military superiority.This would require a doctrine, he said,\n",
      "allowing Europe to introduce nuclear weapons to a non-nuclear conflict.\n",
      "He compared it to the Israeli program, which is believed\n",
      "to allow for a nuclear strike against an overwhelming conventional\n",
      "attack.These are political weapons. Their use must be unpredictable, he\n",
      "said. Smaller nuclear powers often maintain vague doctrines to deter\n",
      "more powerful adversaries.The goal, he said, would be to maintain\n",
      "Europes defense, seen as crucial for its internal unity, as\n",
      "well as its international diplomatic standing.German lawmakers across the political\n",
      "spectrum worry that Mr. Trump could strike a grand bargain\n",
      "with Russia that excludes Europe, a potential first step toward\n",
      "Washington and Moscow dictating Europes future. Mr. Kiesewetter believes a\n",
      "European nuclear program would allow Europe to preserve its autonomy.A\n",
      "Political MinefieldMostly, Mr. Kiesewetter said he hoped to spur Mr.\n",
      "Trump to end doubts over American security commitments to Europe,\n",
      "rendering unnecessary the nuclear Plan B.For now, Mr. Kiesewetters intention\n",
      "is merely to trigger a debate over addressing this silent,\n",
      "gigantic problem.It has worked. A small but growing contingent of\n",
      "German analysts and commentators have endorsed versions of a European\n",
      "nuclear program.Mr. Kiesewetter said he had heard interest from officials\n",
      "in the Polish and Hungarian governments, at NATO headquarters in\n",
      "Brussels and within relevant German ministries, though he would not\n",
      "say which.But any European nuclear program would face enormous hurdles.The\n",
      "public is totally opposed, Ms. Puglierin said, referring to German\n",
      "antinuclear sentiment, which has at times culminated in nationwide protests\n",
      "against the weapons.In practical terms, the plan would change the\n",
      "flag on Europes nuclear deterrent from that of the United\n",
      "States to that of France. But this would risk making\n",
      "an American exit from Europe more permanent.Oliver Thrnert, a German\n",
      "analyst with the Switzerland-based Center for Security Studies, warned in\n",
      "a white paper that any plan would not only be\n",
      "expensive, but also a political minefield full of undesirable potential\n",
      "political consequences.The biggest challenge may be who controls the French\n",
      "arsenal and where it is based.The United States currently shares\n",
      "warheads with allies like Germany, whose militaries are equipped to\n",
      "deliver the weapons, granting the program credibility as a Pan-European\n",
      "defense.But France has shown no willingness to share its weapons,\n",
      "much less put them under a joint European command. If\n",
      "Paris maintains final say over their use, this might cause\n",
      "an adversary to doubt whether France would really initiate a\n",
      "nuclear conflict to protect, say, Estonia.France and a Special ResponsibilityThese\n",
      "sorts of problems are why Bruno Tertrais of the Foundation\n",
      "for Strategic Research in Paris said, In other times I\n",
      "would have told you dont bother, theres no story here.Similar\n",
      "proposals have been floated before, including by the French government,\n",
      "and always rejected as politically risky and strategically unnecessary. But,\n",
      "he said, that calculus appears to have a potential to\n",
      "change with Mr. Trump.Theres already a bit more interest in\n",
      "Berlin and in Paris, Mr. Tertrais said, though he emphasized\n",
      "that this talk would become action only if there were\n",
      "a serious loss of trust in the U.S. umbrella.But a\n",
      "joint European command or funding scheme would most likely be\n",
      "impossible, he warned. The French government would insist on maintaining\n",
      "the final decision to use nuclear weapons.That is also United\n",
      "States policy in Europe, which is why Mr. Tertrais believes\n",
      "a more workable plan would be for France to reproduce\n",
      "American-style practices of basing its warheads abroad, while keeping them\n",
      "under French control.While most French warheads are lodged on submarines,\n",
      "a few dozen are fitted to air-launched cruise missiles that\n",
      "could be housed in, for example, German airfields. These are\n",
      "smaller, shorter-range tactical weapons exactly the American capability that Europe\n",
      "most fears losing.French policy already allows for, though does not\n",
      "require, using nuclear weapons in defense of an ally.With Britains\n",
      "exit from the European Union, the French might feel they\n",
      "have a special responsibility as Europes sole nuclear power.Vipin Narang,\n",
      "a Massachusetts Institute of Technology professor who studies regional nuclear\n",
      "powers, was initially skeptical but came to see such a\n",
      "plan as both technically and politically feasible.For France, he said,\n",
      "it extends their frontier, making it likelier that a nuclear\n",
      "conflict would be fought far from French soil. For Germany\n",
      "and other European states, it would increase the credibility of\n",
      "the forward deployment against Russian aggression.An Insurance PolicySome observers believe\n",
      "that official shows of support are intended only to pressure\n",
      "Mr. Trump into maintaining the status quo, which Mr. Kiesewetter\n",
      "emphasized is his preferred outcome.But Mr. Narang said that, regardless\n",
      "of intentions, there is a blurry line between mere signaling\n",
      "and actually pursuing a fallback nuclear option.Nuclear scholars call this\n",
      "insurance hedging, in which a protectee comes to doubt its\n",
      "protector and responds by taking steps toward, but not actually\n",
      "completing, its own nuclear program. This is meant to goad\n",
      "the protector into staying, and to prepare in case it\n",
      "doesnt.Japan, for instance, has quietly developed latent capabilities that are\n",
      "sometimes figuratively described as a screwdrivers turn away from a\n",
      "bomb.Because Europes primary challenges are political rather than technical France\n",
      "already possesses the warheads sparking public discussion and exploring options\n",
      "makes those challenges more surmountable and the option more real.In\n",
      "order for it to be credible there has to be\n",
      "some sort of workable option, Mr. Narang said.I Never Thought\n",
      "We Would See This AgainMr. Kiesewetter hopes the United States\n",
      "will come around. He puts particular faith in Jim Mattis,\n",
      "the defense secretary, whom he met in Afghanistan and Brussels\n",
      "while both were military officers.But Mr. Mattis has echoed Mr.\n",
      "Trumps warnings that the United States could lessen its support\n",
      "for Europe, saying in a recent speech in Brussels, I\n",
      "owe it to you to give you clarity on the\n",
      "political reality in the United States.If Europeans grew more serious\n",
      "about a nuclear program, Mr. Tertrais said, you would not\n",
      "necessarily see it. Negotiations would most likely remain secret for\n",
      "fear of giving Mr. Trump an excuse to withdraw or\n",
      "of triggering a reaction from Russia.Mr. Narang said he was\n",
      "reeling from the seriousness of the discussion, the first since\n",
      "a failed and now-forgotten effort in the 1950s for French-German-Italian\n",
      "nuclear cooperation.I never thought we would see this again. I\n",
      "never thought there would actually be this concern, he said.\n",
      "But, he added, You can see where the debate is\n",
      "surfacing from. There is a logic to it.\n"
     ]
    }
   ],
   "source": [
    "words = dataset[3]['text'].split(\" \")\n",
    "for s in range(0, len(words), 10):\n",
    "    print(\" \".join(words[s:s+10]))\n"
   ]
  },
  {
   "cell_type": "code",
   "execution_count": null,
   "metadata": {},
   "outputs": [],
   "source": []
  }
 ],
 "metadata": {
  "kernelspec": {
   "display_name": "Python 3",
   "language": "python",
   "name": "python3"
  },
  "language_info": {
   "codemirror_mode": {
    "name": "ipython",
    "version": 3
   },
   "file_extension": ".py",
   "mimetype": "text/x-python",
   "name": "python",
   "nbconvert_exporter": "python",
   "pygments_lexer": "ipython3",
   "version": "3.9.7"
  },
  "orig_nbformat": 4
 },
 "nbformat": 4,
 "nbformat_minor": 2
}
